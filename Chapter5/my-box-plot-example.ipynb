{
 "cells": [
  {
   "cell_type": "markdown",
   "metadata": {},
   "source": [
    "Acloud Guru : AWS Machine Learning Specialty - Chapter 5 (lab)"
   ]
  },
  {
   "cell_type": "code",
   "execution_count": 2,
   "metadata": {},
   "outputs": [
    {
     "name": "stdout",
     "output_type": "stream",
     "text": [
      "Python 3.6.5 :: Anaconda, Inc.\r\n"
     ]
    }
   ],
   "source": [
    "!python --version"
   ]
  },
  {
   "cell_type": "markdown",
   "metadata": {},
   "source": [
    "Import needed libraries"
   ]
  },
  {
   "cell_type": "code",
   "execution_count": 3,
   "metadata": {},
   "outputs": [],
   "source": [
    "import boto3\n",
    "import pandas as pd\n",
    "from sagemaker import get_execution_role\n",
    "import numpy as np\n",
    "import matplotlib.pyplot as plt\n",
    "%matplotlib inline"
   ]
  },
  {
   "cell_type": "markdown",
   "metadata": {},
   "source": [
    "Get the car data from S3"
   ]
  },
  {
   "cell_type": "code",
   "execution_count": 5,
   "metadata": {},
   "outputs": [
    {
     "name": "stdout",
     "output_type": "stream",
     "text": [
      "s3://acloud.guru.chapter5/car_data.csv\n"
     ]
    }
   ],
   "source": [
    "role = get_execution_role()\n",
    "bucket = 'acloud.guru.chapter5'\n",
    "data_key = 'car_data.csv'\n",
    "data_location = 's3://{}/{}'.format (bucket, data_key)\n",
    "print (data_location)"
   ]
  },
  {
   "cell_type": "code",
   "execution_count": 7,
   "metadata": {},
   "outputs": [],
   "source": [
    "df = pd.read_csv (data_location)"
   ]
  },
  {
   "cell_type": "code",
   "execution_count": 8,
   "metadata": {},
   "outputs": [
    {
     "data": {
      "text/html": [
       "<div>\n",
       "<style scoped>\n",
       "    .dataframe tbody tr th:only-of-type {\n",
       "        vertical-align: middle;\n",
       "    }\n",
       "\n",
       "    .dataframe tbody tr th {\n",
       "        vertical-align: top;\n",
       "    }\n",
       "\n",
       "    .dataframe thead th {\n",
       "        text-align: right;\n",
       "    }\n",
       "</style>\n",
       "<table border=\"1\" class=\"dataframe\">\n",
       "  <thead>\n",
       "    <tr style=\"text-align: right;\">\n",
       "      <th></th>\n",
       "      <th>car</th>\n",
       "      <th>year</th>\n",
       "      <th>engine_hp</th>\n",
       "      <th>avg_mpg</th>\n",
       "      <th>price</th>\n",
       "      <th>salesman</th>\n",
       "      <th>dealership</th>\n",
       "      <th>sold_date</th>\n",
       "      <th>sold_month</th>\n",
       "    </tr>\n",
       "  </thead>\n",
       "  <tbody>\n",
       "    <tr>\n",
       "      <th>0</th>\n",
       "      <td>Corvette</td>\n",
       "      <td>2011</td>\n",
       "      <td>335.0</td>\n",
       "      <td>22.5</td>\n",
       "      <td>46135</td>\n",
       "      <td>2</td>\n",
       "      <td>Big Bobs</td>\n",
       "      <td>2012-05-06</td>\n",
       "      <td>5</td>\n",
       "    </tr>\n",
       "    <tr>\n",
       "      <th>1</th>\n",
       "      <td>Corvette</td>\n",
       "      <td>2011</td>\n",
       "      <td>300.0</td>\n",
       "      <td>23.5</td>\n",
       "      <td>40650</td>\n",
       "      <td>2</td>\n",
       "      <td>Uptown Cars</td>\n",
       "      <td>2011-05-16</td>\n",
       "      <td>5</td>\n",
       "    </tr>\n",
       "    <tr>\n",
       "      <th>2</th>\n",
       "      <td>Corvette</td>\n",
       "      <td>2011</td>\n",
       "      <td>300.0</td>\n",
       "      <td>24.0</td>\n",
       "      <td>36350</td>\n",
       "      <td>2</td>\n",
       "      <td>Uptown Cars</td>\n",
       "      <td>2013-07-31</td>\n",
       "      <td>7</td>\n",
       "    </tr>\n",
       "    <tr>\n",
       "      <th>3</th>\n",
       "      <td>Corvette</td>\n",
       "      <td>2011</td>\n",
       "      <td>230.0</td>\n",
       "      <td>23.0</td>\n",
       "      <td>29450</td>\n",
       "      <td>2</td>\n",
       "      <td>Uptown Cars</td>\n",
       "      <td>2014-07-05</td>\n",
       "      <td>7</td>\n",
       "    </tr>\n",
       "    <tr>\n",
       "      <th>4</th>\n",
       "      <td>Corvette</td>\n",
       "      <td>2011</td>\n",
       "      <td>230.0</td>\n",
       "      <td>23.0</td>\n",
       "      <td>34500</td>\n",
       "      <td>2</td>\n",
       "      <td>Uptown Cars</td>\n",
       "      <td>2013-05-20</td>\n",
       "      <td>5</td>\n",
       "    </tr>\n",
       "  </tbody>\n",
       "</table>\n",
       "</div>"
      ],
      "text/plain": [
       "        car  year  engine_hp  ...   dealership   sold_date  sold_month\n",
       "0  Corvette  2011      335.0  ...     Big Bobs  2012-05-06           5\n",
       "1  Corvette  2011      300.0  ...  Uptown Cars  2011-05-16           5\n",
       "2  Corvette  2011      300.0  ...  Uptown Cars  2013-07-31           7\n",
       "3  Corvette  2011      230.0  ...  Uptown Cars  2014-07-05           7\n",
       "4  Corvette  2011      230.0  ...  Uptown Cars  2013-05-20           5\n",
       "\n",
       "[5 rows x 9 columns]"
      ]
     },
     "execution_count": 8,
     "metadata": {},
     "output_type": "execute_result"
    }
   ],
   "source": [
    "df.head()"
   ]
  },
  {
   "cell_type": "markdown",
   "metadata": {},
   "source": [
    "Build out the box plot"
   ]
  },
  {
   "cell_type": "code",
   "execution_count": 16,
   "metadata": {},
   "outputs": [],
   "source": [
    "df_vet = df[df['car'] == 'Corvette']\n",
    "df_mustang = df[df['car'] == 'Mustang']\n",
    "df_camaro = df[df['car'] == 'Camaro']"
   ]
  },
  {
   "cell_type": "code",
   "execution_count": 17,
   "metadata": {},
   "outputs": [
    {
     "data": {
      "text/html": [
       "<div>\n",
       "<style scoped>\n",
       "    .dataframe tbody tr th:only-of-type {\n",
       "        vertical-align: middle;\n",
       "    }\n",
       "\n",
       "    .dataframe tbody tr th {\n",
       "        vertical-align: top;\n",
       "    }\n",
       "\n",
       "    .dataframe thead th {\n",
       "        text-align: right;\n",
       "    }\n",
       "</style>\n",
       "<table border=\"1\" class=\"dataframe\">\n",
       "  <thead>\n",
       "    <tr style=\"text-align: right;\">\n",
       "      <th></th>\n",
       "      <th>car</th>\n",
       "      <th>year</th>\n",
       "      <th>engine_hp</th>\n",
       "      <th>avg_mpg</th>\n",
       "      <th>price</th>\n",
       "      <th>salesman</th>\n",
       "      <th>dealership</th>\n",
       "      <th>sold_date</th>\n",
       "      <th>sold_month</th>\n",
       "    </tr>\n",
       "  </thead>\n",
       "  <tbody>\n",
       "    <tr>\n",
       "      <th>118</th>\n",
       "      <td>Camaro</td>\n",
       "      <td>2014</td>\n",
       "      <td>270.0</td>\n",
       "      <td>20.0</td>\n",
       "      <td>41365</td>\n",
       "      <td>2</td>\n",
       "      <td>Uptown Cars</td>\n",
       "      <td>2015-04-21</td>\n",
       "      <td>4</td>\n",
       "    </tr>\n",
       "    <tr>\n",
       "      <th>119</th>\n",
       "      <td>Camaro</td>\n",
       "      <td>2014</td>\n",
       "      <td>270.0</td>\n",
       "      <td>20.0</td>\n",
       "      <td>35740</td>\n",
       "      <td>2</td>\n",
       "      <td>Car Town</td>\n",
       "      <td>2016-03-25</td>\n",
       "      <td>3</td>\n",
       "    </tr>\n",
       "    <tr>\n",
       "      <th>120</th>\n",
       "      <td>Camaro</td>\n",
       "      <td>2014</td>\n",
       "      <td>270.0</td>\n",
       "      <td>19.5</td>\n",
       "      <td>37615</td>\n",
       "      <td>3</td>\n",
       "      <td>Car Town</td>\n",
       "      <td>2015-05-05</td>\n",
       "      <td>5</td>\n",
       "    </tr>\n",
       "    <tr>\n",
       "      <th>121</th>\n",
       "      <td>Camaro</td>\n",
       "      <td>2014</td>\n",
       "      <td>270.0</td>\n",
       "      <td>19.5</td>\n",
       "      <td>34695</td>\n",
       "      <td>3</td>\n",
       "      <td>Big Bobs</td>\n",
       "      <td>2016-05-13</td>\n",
       "      <td>5</td>\n",
       "    </tr>\n",
       "    <tr>\n",
       "      <th>122</th>\n",
       "      <td>Camaro</td>\n",
       "      <td>2014</td>\n",
       "      <td>270.0</td>\n",
       "      <td>19.5</td>\n",
       "      <td>35725</td>\n",
       "      <td>4</td>\n",
       "      <td>Uptown Cars</td>\n",
       "      <td>2016-12-04</td>\n",
       "      <td>12</td>\n",
       "    </tr>\n",
       "  </tbody>\n",
       "</table>\n",
       "</div>"
      ],
      "text/plain": [
       "        car  year  engine_hp  ...   dealership   sold_date  sold_month\n",
       "118  Camaro  2014      270.0  ...  Uptown Cars  2015-04-21           4\n",
       "119  Camaro  2014      270.0  ...     Car Town  2016-03-25           3\n",
       "120  Camaro  2014      270.0  ...     Car Town  2015-05-05           5\n",
       "121  Camaro  2014      270.0  ...     Big Bobs  2016-05-13           5\n",
       "122  Camaro  2014      270.0  ...  Uptown Cars  2016-12-04          12\n",
       "\n",
       "[5 rows x 9 columns]"
      ]
     },
     "execution_count": 17,
     "metadata": {},
     "output_type": "execute_result"
    }
   ],
   "source": [
    "df_camaro.head()"
   ]
  },
  {
   "cell_type": "code",
   "execution_count": 30,
   "metadata": {},
   "outputs": [
    {
     "data": {
      "text/plain": [
       "{'whiskers': [<matplotlib.lines.Line2D at 0x7fdb2351eeb8>,\n",
       "  <matplotlib.lines.Line2D at 0x7fdb2352e240>,\n",
       "  <matplotlib.lines.Line2D at 0x7fdb234bd668>,\n",
       "  <matplotlib.lines.Line2D at 0x7fdb234bd9b0>,\n",
       "  <matplotlib.lines.Line2D at 0x7fdb234c8da0>,\n",
       "  <matplotlib.lines.Line2D at 0x7fdb234d1128>],\n",
       " 'caps': [<matplotlib.lines.Line2D at 0x7fdb2352e588>,\n",
       "  <matplotlib.lines.Line2D at 0x7fdb2352e8d0>,\n",
       "  <matplotlib.lines.Line2D at 0x7fdb234bdcf8>,\n",
       "  <matplotlib.lines.Line2D at 0x7fdb234c8080>,\n",
       "  <matplotlib.lines.Line2D at 0x7fdb234d1470>,\n",
       "  <matplotlib.lines.Line2D at 0x7fdb234d17b8>],\n",
       " 'boxes': [<matplotlib.lines.Line2D at 0x7fdb2351e6d8>,\n",
       "  <matplotlib.lines.Line2D at 0x7fdb234bd320>,\n",
       "  <matplotlib.lines.Line2D at 0x7fdb234c8a20>],\n",
       " 'medians': [<matplotlib.lines.Line2D at 0x7fdb2352ec18>,\n",
       "  <matplotlib.lines.Line2D at 0x7fdb234c83c8>,\n",
       "  <matplotlib.lines.Line2D at 0x7fdb234d1b00>],\n",
       " 'fliers': [<matplotlib.lines.Line2D at 0x7fdb2352ef60>,\n",
       "  <matplotlib.lines.Line2D at 0x7fdb234c8710>,\n",
       "  <matplotlib.lines.Line2D at 0x7fdb234d1e48>],\n",
       " 'means': []}"
      ]
     },
     "execution_count": 30,
     "metadata": {},
     "output_type": "execute_result"
    },
    {
     "data": {
      "image/png": "[encoded data removed]",
      "text/plain": [
       "<Figure size 432x288 with 1 Axes>"
      ]
     },
     "metadata": {},
     "output_type": "display_data"
    }
   ],
   "source": [
    "data = [df_camaro['engine_hp'], df_vet['engine_hp'], df_mustang['engine_hp']]\n",
    "plt.boxplot (data, vert=False)"
   ]
  },
  {
   "cell_type": "markdown",
   "metadata": {},
   "source": [
    "That was the data, but it's hard to interpret. Let's add info..."
   ]
  },
  {
   "cell_type": "code",
   "execution_count": 31,
   "metadata": {},
   "outputs": [
    {
     "data": {
      "image/png": "[encoded data removed]",
      "text/plain": [
       "<Figure size 432x288 with 1 Axes>"
      ]
     },
     "metadata": {},
     "output_type": "display_data"
    }
   ],
   "source": [
    "plt.boxplot (data, vert=False)\n",
    "plt.title ('Engine HP Box Plot')\n",
    "plt.xlabel ('Engine HP')\n",
    "plt.yticks ([1, 2, 3], ['Camaro', 'Corvette', 'Mustang'])\n",
    "plt.show()"
   ]
  },
  {
   "cell_type": "code",
   "execution_count": null,
   "metadata": {},
   "outputs": [],
   "source": []
  }
 ],
 "metadata": {
  "kernelspec": {
   "display_name": "conda_python3",
   "language": "python",
   "name": "conda_python3"
  },
  "language_info": {
   "codemirror_mode": {
    "name": "ipython",
    "version": 3
   },
   "file_extension": ".py",
   "mimetype": "text/x-python",
   "name": "python",
   "nbconvert_exporter": "python",
   "pygments_lexer": "ipython3",
   "version": "3.6.5"
  }
 },
 "nbformat": 4,
 "nbformat_minor": 2
}
